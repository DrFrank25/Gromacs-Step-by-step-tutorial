{
  "nbformat": 4,
  "nbformat_minor": 0,
  "metadata": {
    "colab": {
      "private_outputs": true,
      "provenance": [],
      "gpuType": "T4",
      "authorship_tag": "ABX9TyMzc2nmLeytrlnOfJubSg+x",
      "include_colab_link": true
    },
    "kernelspec": {
      "name": "ir",
      "display_name": "R"
    },
    "language_info": {
      "name": "R"
    },
    "accelerator": "GPU"
  },
  "cells": [
    {
      "cell_type": "markdown",
      "metadata": {
        "id": "view-in-github",
        "colab_type": "text"
      },
      "source": [
        "<a href=\"https://colab.research.google.com/github/DrFrank25/Gromacs-Step-by-step-tutorial/blob/main/Tets_MD_in_R.ipynb\" target=\"_parent\"><img src=\"https://colab.research.google.com/assets/colab-badge.svg\" alt=\"Open In Colab\"/></a>"
      ]
    },
    {
      "cell_type": "code",
      "source": [
        "install.packages(\"bio3d\", dependencies=TRUE)"
      ],
      "metadata": {
        "id": "TlM5tCowTkZJ"
      },
      "execution_count": null,
      "outputs": []
    },
    {
      "cell_type": "markdown",
      "source": [
        "**Getting Started**"
      ],
      "metadata": {
        "id": "8Z8PL4PrV4G_"
      }
    },
    {
      "cell_type": "code",
      "source": [
        "library(bio3d)\n",
        "demo(\"md\")"
      ],
      "metadata": {
        "id": "TY2NJ1iNV04n"
      },
      "execution_count": null,
      "outputs": []
    },
    {
      "cell_type": "code",
      "source": [
        "dcdfile <- system.file(\"examples/hivp.dcd\", package=\"bio3d\")\n",
        "pdbfile <- system.file(\"examples/hivp.pdb\", package=\"bio3d\")"
      ],
      "metadata": {
        "id": "tVxBghrGV069"
      },
      "execution_count": null,
      "outputs": []
    },
    {
      "cell_type": "code",
      "source": [
        "mydcdfile <- \"/path/to/my/data/myfile.dcd\""
      ],
      "metadata": {
        "id": "sHjgaqeMV1Bw"
      },
      "execution_count": null,
      "outputs": []
    },
    {
      "cell_type": "code",
      "source": [
        "dcd <- read.dcd(dcdfile)\n",
        "pdb <- read.pdb(pdbfile)"
      ],
      "metadata": {
        "id": "9MHdIdzyWg7O"
      },
      "execution_count": null,
      "outputs": []
    },
    {
      "cell_type": "code",
      "source": [
        "print(pdb)"
      ],
      "metadata": {
        "id": "MMMHZRBDWhEj"
      },
      "execution_count": null,
      "outputs": []
    },
    {
      "cell_type": "code",
      "source": [
        "print(pdb$xyz)"
      ],
      "metadata": {
        "id": "ozOuupQAWhLC"
      },
      "execution_count": null,
      "outputs": []
    },
    {
      "cell_type": "code",
      "source": [
        "print(dcd)\n"
      ],
      "metadata": {
        "id": "xuQnbL2qWhRy"
      },
      "execution_count": null,
      "outputs": []
    },
    {
      "cell_type": "markdown",
      "source": [
        "**Trajectory Frame Superposition**\n"
      ],
      "metadata": {
        "id": "lDMLdrOfW4z2"
      }
    },
    {
      "cell_type": "code",
      "source": [
        "ca.inds <- atom.select(pdb, elety=\"CA\")"
      ],
      "metadata": {
        "id": "UBvL506oW1hI"
      },
      "execution_count": null,
      "outputs": []
    },
    {
      "cell_type": "code",
      "source": [
        "xyz <- fit.xyz(fixed=pdb$xyz, mobile=dcd,\n",
        "fixed.inds=ca.inds$xyz,\n",
        "mobile.inds=ca.inds$xyz)"
      ],
      "metadata": {
        "id": "aL8bMvRqW1md"
      },
      "execution_count": null,
      "outputs": []
    },
    {
      "cell_type": "code",
      "source": [
        "dim(xyz) == dim(dcd)"
      ],
      "metadata": {
        "id": "Zfk83a4PW1rW"
      },
      "execution_count": null,
      "outputs": []
    },
    {
      "cell_type": "markdown",
      "source": [
        "**Root Mean Square Deviation (RMSD)**\n",
        "\n"
      ],
      "metadata": {
        "id": "6-ZnS1bDXZXx"
      }
    },
    {
      "cell_type": "code",
      "source": [
        "rd <- rmsd(xyz[1,ca.inds$xyz], xyz[,ca.inds$xyz])"
      ],
      "metadata": {
        "id": "QHmxD_nzXQOz"
      },
      "execution_count": null,
      "outputs": []
    },
    {
      "cell_type": "code",
      "source": [
        "plot(rd, typ=\"l\", ylab=\"RMSD\", xlab=\"Frame No.\", col=\"red\")\n"
      ],
      "metadata": {
        "id": "N7WUEKvpXQXI"
      },
      "execution_count": null,
      "outputs": []
    },
    {
      "cell_type": "code",
      "source": [
        "hist(rd, breaks=40, freq=FALSE, main=\"RMSD Histogram\", xlab=\"RMSD\")\n",
        "lines(density(rd), col=\"blue\", lwd=2)"
      ],
      "metadata": {
        "id": "-w2Z4B9iXQcg"
      },
      "execution_count": null,
      "outputs": []
    },
    {
      "cell_type": "code",
      "source": [
        "summary(rd)"
      ],
      "metadata": {
        "id": "LPISIOqvXQfQ"
      },
      "execution_count": null,
      "outputs": []
    },
    {
      "cell_type": "markdown",
      "source": [
        "**Root Mean Squared Fluctuations (RMSF)**"
      ],
      "metadata": {
        "id": "8-Urfv13YknB"
      }
    },
    {
      "cell_type": "code",
      "source": [
        "rf <- rmsf(xyz[,ca.inds$xyz])\n",
        "plot(rf, ylab=\"RMSF\", xlab=\"Residue Position\", typ=\"l\")\n"
      ],
      "metadata": {
        "id": "QSbE5Zv1XQjM"
      },
      "execution_count": null,
      "outputs": []
    },
    {
      "cell_type": "markdown",
      "source": [
        "**Principal Component Analysis**"
      ],
      "metadata": {
        "id": "J8PPgogeY0IG"
      }
    },
    {
      "cell_type": "code",
      "source": [
        "pc <- pca.xyz(xyz[,ca.inds$xyz])\n",
        "plot(pc, col=bwr.colors(nrow(xyz)) )"
      ],
      "metadata": {
        "id": "NFkpCN1oXQme"
      },
      "execution_count": null,
      "outputs": []
    },
    {
      "cell_type": "code",
      "source": [
        "hc <- hclust(dist(pc$z[,1:2]))\n",
        "grps <- cutree(hc, k=2)\n",
        "plot(pc, col=grps)"
      ],
      "metadata": {
        "id": "e5hxtNEbXQpZ"
      },
      "execution_count": null,
      "outputs": []
    },
    {
      "cell_type": "code",
      "source": [
        "plot.bio3d(pc$au[,1], ylab=\"PC1 (A)\", xlab=\"Residue Position\", typ=\"l\")\n",
        "points(pc$au[,2], typ=\"l\", col=\"blue\")"
      ],
      "metadata": {
        "id": "xzQgK6PQXQsB"
      },
      "execution_count": null,
      "outputs": []
    },
    {
      "cell_type": "code",
      "source": [
        "p1 <- mktrj.pca(pc, pc=1, b=pc$au[,1], file=\"pc1.pdb\")\n",
        "p2 <- mktrj.pca(pc, pc=2,b=pc$au[,2], file=\"pc2.pdb\")"
      ],
      "metadata": {
        "id": "ju5SJlC3XQum"
      },
      "execution_count": null,
      "outputs": []
    },
    {
      "cell_type": "code",
      "source": [
        "write.ncdf(p1, \"trj_pc1.nc\")"
      ],
      "metadata": {
        "id": "FI7soBYYXQxI"
      },
      "execution_count": null,
      "outputs": []
    },
    {
      "cell_type": "markdown",
      "source": [
        "**Cross-Correlation Analysis**\n"
      ],
      "metadata": {
        "id": "1u1VtRhca9IK"
      }
    },
    {
      "cell_type": "code",
      "source": [
        "cij<-dccm(xyz[,ca.inds$xyz])\n",
        "plot(cij)"
      ],
      "metadata": {
        "id": "onNwR4X3bCFH"
      },
      "execution_count": null,
      "outputs": []
    },
    {
      "cell_type": "code",
      "source": [
        "sessionInfo()"
      ],
      "metadata": {
        "id": "8bqbA8x2gs-G"
      },
      "execution_count": null,
      "outputs": []
    }
  ]
}